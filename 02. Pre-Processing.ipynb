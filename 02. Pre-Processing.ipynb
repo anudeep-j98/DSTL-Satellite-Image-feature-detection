{
 "cells": [
  {
   "cell_type": "code",
   "execution_count": 1,
   "id": "c3d15f83",
   "metadata": {},
   "outputs": [],
   "source": [
    "import matplotlib.pyplot as plt\n",
    "import numpy as np\n",
    "import cv2\n",
    "import pandas as pd\n",
    "from shapely.wkt import loads as wkt_loads\n",
    "import tifffile as tiff\n",
    "import os\n",
    "import random\n",
    "from shapely.wkt import loads           \n",
    "from matplotlib.patches import Polygon, Patch\n",
    "from shapely.geometry import MultiPolygon, Polygon\n",
    "import shapely.wkt\n",
    "import shapely.affinity\n",
    "from sklearn.metrics import jaccard_score\n",
    "from collections import defaultdict\n",
    "import tensorflow as tf\n",
    "from tifffile import imwrite\n",
    "\n",
    "import warnings\n",
    "import warnings\n",
    "warnings.filterwarnings(\"ignore\")"
   ]
  },
  {
   "cell_type": "code",
   "execution_count": 2,
   "id": "e0157171",
   "metadata": {},
   "outputs": [],
   "source": [
    "num_class = 10\n",
    "DF = pd.read_csv('train_wkt_v4/train_wkt_v4.csv')\n",
    "GS = pd.read_csv('grid_sizes/grid_sizes.csv', names=['ImageId', 'Xmax', 'Ymin'], skiprows=1)\n",
    "SB = pd.read_csv(os.path.join('sample_submission/sample_submission.csv'))\n",
    "size = 160\n",
    "smooth = 1e-12"
   ]
  },
  {
   "cell_type": "code",
   "execution_count": 3,
   "id": "ecdf03f4",
   "metadata": {},
   "outputs": [
    {
     "data": {
      "text/html": [
       "<div>\n",
       "<style scoped>\n",
       "    .dataframe tbody tr th:only-of-type {\n",
       "        vertical-align: middle;\n",
       "    }\n",
       "\n",
       "    .dataframe tbody tr th {\n",
       "        vertical-align: top;\n",
       "    }\n",
       "\n",
       "    .dataframe thead th {\n",
       "        text-align: right;\n",
       "    }\n",
       "</style>\n",
       "<table border=\"1\" class=\"dataframe\">\n",
       "  <thead>\n",
       "    <tr style=\"text-align: right;\">\n",
       "      <th></th>\n",
       "      <th>ImageId</th>\n",
       "      <th>ClassType</th>\n",
       "      <th>MultipolygonWKT</th>\n",
       "    </tr>\n",
       "  </thead>\n",
       "  <tbody>\n",
       "    <tr>\n",
       "      <th>0</th>\n",
       "      <td>6040_2_2</td>\n",
       "      <td>1</td>\n",
       "      <td>MULTIPOLYGON EMPTY</td>\n",
       "    </tr>\n",
       "    <tr>\n",
       "      <th>1</th>\n",
       "      <td>6040_2_2</td>\n",
       "      <td>2</td>\n",
       "      <td>MULTIPOLYGON EMPTY</td>\n",
       "    </tr>\n",
       "    <tr>\n",
       "      <th>2</th>\n",
       "      <td>6040_2_2</td>\n",
       "      <td>3</td>\n",
       "      <td>MULTIPOLYGON EMPTY</td>\n",
       "    </tr>\n",
       "    <tr>\n",
       "      <th>3</th>\n",
       "      <td>6040_2_2</td>\n",
       "      <td>4</td>\n",
       "      <td>MULTIPOLYGON (((0.003025 -0.007879000000000001...</td>\n",
       "    </tr>\n",
       "    <tr>\n",
       "      <th>4</th>\n",
       "      <td>6040_2_2</td>\n",
       "      <td>5</td>\n",
       "      <td>MULTIPOLYGON (((0.005311 -0.009044999999999999...</td>\n",
       "    </tr>\n",
       "  </tbody>\n",
       "</table>\n",
       "</div>"
      ],
      "text/plain": [
       "    ImageId  ClassType                                    MultipolygonWKT\n",
       "0  6040_2_2          1                                 MULTIPOLYGON EMPTY\n",
       "1  6040_2_2          2                                 MULTIPOLYGON EMPTY\n",
       "2  6040_2_2          3                                 MULTIPOLYGON EMPTY\n",
       "3  6040_2_2          4  MULTIPOLYGON (((0.003025 -0.007879000000000001...\n",
       "4  6040_2_2          5  MULTIPOLYGON (((0.005311 -0.009044999999999999..."
      ]
     },
     "execution_count": 3,
     "metadata": {},
     "output_type": "execute_result"
    }
   ],
   "source": [
    "DF = pd.read_csv('train_wkt_v4/train_wkt_v4.csv')\n",
    "DF.head()"
   ]
  },
  {
   "cell_type": "code",
   "execution_count": 4,
   "id": "f095c2e3",
   "metadata": {},
   "outputs": [],
   "source": [
    "def convert_coordinate(coords, img_size, xy_max):\n",
    "    '''\n",
    "    converting images to given range\n",
    "    '''\n",
    "    # https://www.kaggle.com/visoft/dstl-satellite-imagery-feature-detection/export-pixel-wise-mask\n",
    "    Xmax, Ymin = xy_max               #Xmax and Ymin form gridsize dataframe\n",
    "    Height, Weight = img_size            # image sizes\n",
    "    W = 1.0 * Weight * Weight / (Weight + 1)  #from kaggle tutorial\n",
    "    H = 1.0 * Height * Height / (Height + 1)\n",
    "    xf = W / Xmax\n",
    "    yf = H / Ymin\n",
    "    coords[:, 1] *= yf\n",
    "    coords[:, 0] *= xf\n",
    "    coords_int = np.round(coords).astype(np.int32)\n",
    "    return coords_int"
   ]
  },
  {
   "cell_type": "code",
   "execution_count": 5,
   "id": "ec22bbcf",
   "metadata": {},
   "outputs": [],
   "source": [
    "def get_xmax_ymin(GS, imageId):\n",
    "    '''\n",
    "    getting x_max and y_min from grid_size dataframe\n",
    "    ''' \n",
    "    xmax, ymin = GS[GS.ImageId == imageId].iloc[0, 1:].astype(float)\n",
    "    return (xmax, ymin)"
   ]
  },
  {
   "cell_type": "code",
   "execution_count": 6,
   "id": "a422d467",
   "metadata": {},
   "outputs": [],
   "source": [
    "def get_listof_polygons(wkt_list, imageId, cType):\n",
    "    '''\n",
    "    given multipolygonWKT getting list of all polygons\n",
    "    '''\n",
    "    # https://www.kaggle.com/visoft/dstl-satellite-imagery-feature-detection/export-pixel-wise-mask\n",
    "    df_image = wkt_list[wkt_list.ImageId == imageId]\n",
    "    multipoly_def = df_image[df_image.ClassType == cType].MultipolygonWKT\n",
    "    polygonList = None\n",
    "    if len(multipoly_def) > 0:\n",
    "        assert len(multipoly_def) == 1\n",
    "        polygonList = loads(multipoly_def.values[0])\n",
    "    return polygonList"
   ]
  },
  {
   "cell_type": "code",
   "execution_count": 7,
   "id": "ff910bd4",
   "metadata": {},
   "outputs": [],
   "source": [
    "def get_and_convert_contours(polygonList, img_size, xy_coods):\n",
    "    '''\n",
    "    get the countour of polygons\n",
    "    '''\n",
    "    # https://www.kaggle.com/visoft/dstl-satellite-imagery-feature-detection/export-pixel-wise-mask\n",
    "    perim_list = []\n",
    "    interior_list = []\n",
    "    if polygonList is None:\n",
    "        return None\n",
    "    for k in range(len(polygonList)):\n",
    "        poly = polygonList[k]\n",
    "        perim = np.array(list(poly.exterior.coords))\n",
    "        perim_c = convert_coordinate(perim, img_size, xy_coods)\n",
    "        perim_list.append(perim_c)\n",
    "        for pi in poly.interiors:\n",
    "            interior = np.array(list(pi.coords))\n",
    "            interior_c = convert_coordinate(interior, img_size, xy_coods)\n",
    "            interior_list.append(interior_c)\n",
    "    return perim_list, interior_list"
   ]
  },
  {
   "cell_type": "code",
   "execution_count": 8,
   "id": "02ec7884",
   "metadata": {},
   "outputs": [],
   "source": [
    "import cv2\n",
    "def plot_mask_from_contours(img_size, contours):\n",
    "    '''\n",
    "    plot by filling all polygon contours\n",
    "    '''\n",
    "    # https://www.geeksforgeeks.org/draw-a-filled-polygon-using-the-opencv-function-fillpoly/\n",
    "    # https://www.kaggle.com/visoft/dstl-satellite-imagery-feature-detection/export-pixel-wise-mask\n",
    "    img_mask = np.zeros(img_size, np.uint8)\n",
    "    if contours is None:\n",
    "        return img_mask\n",
    "    perim_list, interior_list = contours\n",
    "    cv2.fillPoly(img_mask, perim_list,1)    \n",
    "    cv2.fillPoly(img_mask, interior_list,0)\n",
    "    return img_mask"
   ]
  },
  {
   "cell_type": "code",
   "execution_count": 9,
   "id": "ddd621c6",
   "metadata": {},
   "outputs": [],
   "source": [
    "def generate_mask_for_image_and_class(img_size, imageId, class_type, GS=GS, wkt_list=DF):\n",
    "    '''\n",
    "    generate mask by filling the counters\n",
    "    '''\n",
    "    \n",
    "    '''\n",
    "    combining all above functions\n",
    "    '''\n",
    "    xy_max = get_xmax_ymin(GS, imageId)\n",
    "    polygon_list = get_listof_polygons(wkt_list, imageId, class_type)\n",
    "    contours = get_and_convert_contours(polygon_list, img_size, xy_max)\n",
    "    mask = plot_mask_from_contours(img_size, contours)\n",
    "    return mask"
   ]
  },
  {
   "cell_type": "code",
   "execution_count": 10,
   "id": "300eb029",
   "metadata": {},
   "outputs": [],
   "source": [
    "def band_8(image_id, size=800):\n",
    "    '''\n",
    "    getting 8 band images i.e M Bands\n",
    "    '''\n",
    "    filename = \"sixteen_band/{}_M.tif\".format(image_id)\n",
    "    img = tiff.imread(filename)\n",
    "    img = np.rollaxis(img, 0, 3)\n",
    "    return img"
   ]
  },
  {
   "cell_type": "code",
   "execution_count": 11,
   "id": "43a8b845",
   "metadata": {},
   "outputs": [],
   "source": [
    "def stretch_n(img, lower_percent=5, higher_percent=95):    \n",
    "    '''\n",
    "    adjusting the contrast of images and getting values in a range\n",
    "    '''\n",
    "    # https://www.kaggle.com/aamaia/rgb-using-m-bands-example\n",
    "    out = np.zeros_like(img, dtype=np.float32)\n",
    "    n = img.shape[2]\n",
    "    for i in range(n):\n",
    "        a = 0       # np.min(img)\n",
    "        b = 1       # np.max(img)\n",
    "        c = np.percentile(img[:, :, i], lower_percent)\n",
    "        d = np.percentile(img[:, :, i], higher_percent)\n",
    "        t = a + (img[:, :, i] - c) * (b - a) / (d - c)\n",
    "        t[t < a] = a\n",
    "        t[t > b] = b\n",
    "        out[:, :, i] = t\n",
    "    return out.astype(np.float32)"
   ]
  },
  {
   "cell_type": "code",
   "execution_count": 13,
   "id": "20e22e88",
   "metadata": {},
   "outputs": [
    {
     "name": "stderr",
     "output_type": "stream",
     "text": [
      "100%|██████████████████████████████████████████████████████████████████████████████████| 25/25 [00:37<00:00,  1.51s/it]\n"
     ]
    }
   ],
   "source": [
    "from tqdm import tqdm\n",
    "\n",
    "image_ids = sorted(DF.ImageId.unique())\n",
    "for img_id in tqdm(image_ids):\n",
    "    img = stretch_n(band_8(img_id))\n",
    "    y = np.zeros((img.shape[0], img.shape[1],10))\n",
    "    for ele in range(10):\n",
    "        y[:,:,ele] = generate_mask_for_image_and_class((img.shape[0], img.shape[1]), img_id, ele+1)\n",
    "    imwrite('masks/'+img_id+'.tif',y)"
   ]
  },
  {
   "cell_type": "code",
   "execution_count": 14,
   "id": "c0952bbf",
   "metadata": {
    "scrolled": true
   },
   "outputs": [
    {
     "name": "stderr",
     "output_type": "stream",
     "text": [
      "100%|██████████████████████████████████████████████████████████████████████████████████| 25/25 [00:12<00:00,  1.95it/s]\n"
     ]
    },
    {
     "name": "stdout",
     "output_type": "stream",
     "text": [
      "(3600, 8, 160, 160) (3600, 10, 160, 160) 1.0 -1.0 1.0 0.0\n"
     ]
    }
   ],
   "source": [
    "from patchify import patchify\n",
    "\n",
    "image_ids = sorted(DF.ImageId.unique())\n",
    "x, y = [], []\n",
    "for img_id in tqdm(image_ids):\n",
    "    img = stretch_n(band_8(img_id))\n",
    "    mask = tiff.imread('masks/'+img_id+'.tif')\n",
    "    patch_img = patchify(img,(160,160,8),step=60)  #smaller images with dimension (160,160,8)\n",
    "    patch_mask = patchify(mask,(160,160,10),step=60) #smaller masks with dimension (160,160,8)\n",
    "    \n",
    "    for i in range(patch_img.shape[0]):\n",
    "        for j in range(patch_img.shape[1]):\n",
    "            #appending all patches\n",
    "            x.append(patch_img[i,j,0,:,:].astype(np.float16)) \n",
    "            y.append(patch_mask[i,j,0,:,:].astype(np.float16))\n",
    "               \n",
    "x, y = 2 * np.transpose(x, (0, 3, 1, 2)) - 1, np.transpose(y, (0, 3, 1, 2))\n",
    "print(x.shape, y.shape, np.amax(x), np.amin(x), np.amax(y), np.amin(y))"
   ]
  },
  {
   "cell_type": "code",
   "execution_count": 15,
   "id": "01b13f2c",
   "metadata": {},
   "outputs": [],
   "source": [
    "np.save('data/all_images',np.array(x))\n",
    "np.save('data/all_masks',np.array(y))"
   ]
  },
  {
   "cell_type": "code",
   "execution_count": null,
   "id": "2139edfd",
   "metadata": {},
   "outputs": [],
   "source": []
  },
  {
   "cell_type": "code",
   "execution_count": null,
   "id": "4a07f82d",
   "metadata": {},
   "outputs": [],
   "source": []
  }
 ],
 "metadata": {
  "kernelspec": {
   "display_name": "Python 3 (ipykernel)",
   "language": "python",
   "name": "python3"
  },
  "language_info": {
   "codemirror_mode": {
    "name": "ipython",
    "version": 3
   },
   "file_extension": ".py",
   "mimetype": "text/x-python",
   "name": "python",
   "nbconvert_exporter": "python",
   "pygments_lexer": "ipython3",
   "version": "3.8.13"
  }
 },
 "nbformat": 4,
 "nbformat_minor": 5
}
